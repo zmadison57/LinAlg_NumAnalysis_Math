{
 "cells": [
  {
   "cell_type": "markdown",
   "metadata": {},
   "source": [
    "# Interior Point\n",
    "## March 31st, 2022\n",
    "### Overview: Using the interior point method to solve linear functions"
   ]
  },
  {
   "cell_type": "code",
   "execution_count": 1,
   "metadata": {},
   "outputs": [],
   "source": [
    "import numpy as np\n",
    "from scipy import linalg as la\n",
    "from scipy.stats import linregress\n",
    "from matplotlib import pyplot as plt"
   ]
  },
  {
   "cell_type": "code",
   "execution_count": 2,
   "metadata": {},
   "outputs": [],
   "source": [
    "# Auxiliary Functions ---------------------------------------------------------\n",
    "def starting_point(A, b, c):\n",
    "    \"\"\"Calculate an initial guess to the solution of the linear program\n",
    "    min c^T x, Ax = b, x>=0.\n",
    "    Reference: Nocedal and Wright, p. 410.\n",
    "    \"\"\"\n",
    "    # Calculate x, lam, mu of minimal norm satisfying both\n",
    "    # the primal and dual constraints.\n",
    "    B = la.inv(A @ A.T)\n",
    "    x = A.T @ B @ b\n",
    "    lam = B @ A @ c\n",
    "    mu = c - (A.T @ lam)\n",
    "\n",
    "    # Perturb x and s so they are nonnegative.\n",
    "    dx = max((-3./2)*x.min(), 0)\n",
    "    dmu = max((-3./2)*mu.min(), 0)\n",
    "    x += dx*np.ones_like(x)\n",
    "    mu += dmu*np.ones_like(mu)\n",
    "\n",
    "    # Perturb x and mu so they are not too small and not too dissimilar.\n",
    "    dx = .5*(x*mu).sum()/mu.sum()\n",
    "    dmu = .5*(x*mu).sum()/x.sum()\n",
    "    x += dx*np.ones_like(x)\n",
    "    mu += dmu*np.ones_like(mu)\n",
    "\n",
    "    return x, lam, mu\n",
    "\n",
    "# Use this linear program generator to test your interior point method.\n",
    "def randomLP(j,k):\n",
    "    \"\"\"Generate a linear program min c^T x s.t. Ax = b, x>=0.\n",
    "    First generate m feasible constraints, then add\n",
    "    slack variables to convert it into the above form.\n",
    "    Parameters:\n",
    "        j (int >= k): number of desired constraints.\n",
    "        k (int): dimension of space in which to optimize.\n",
    "    Returns:\n",
    "        A ((j, j+k) ndarray): Constraint matrix.\n",
    "        b ((j,) ndarray): Constraint vector.\n",
    "        c ((j+k,), ndarray): Objective function with j trailing 0s.\n",
    "        x ((k,) ndarray): The first 'k' terms of the solution to the LP.\n",
    "    \"\"\"\n",
    "    A = np.random.random((j,k))*20 - 10\n",
    "    A[A[:,-1]<0] *= -1\n",
    "    x = np.random.random(k)*10\n",
    "    b = np.zeros(j)\n",
    "    b[:k] = A[:k,:] @ x\n",
    "    b[k:] = A[k:,:] @ x + np.random.random(j-k)*10\n",
    "    c = np.zeros(j+k)\n",
    "    c[:k] = A[:k,:].sum(axis=0)/k\n",
    "    A = np.hstack((A, np.eye(j)))\n",
    "    return A, b, -c, x"
   ]
  },
  {
   "cell_type": "code",
   "execution_count": 47,
   "metadata": {},
   "outputs": [],
   "source": [
    "# Problems --------------------------------------------------------------------\n",
    "def interiorPoint(A, b, c, niter=20, tol=1e-16, verbose=False):\n",
    "    \"\"\"Solve the linear program min c^T x, Ax = b, x>=0\n",
    "    using an Interior Point method.\n",
    "\n",
    "    Parameters:\n",
    "        A ((m,n) ndarray): Equality constraint matrix with full row rank.\n",
    "        b ((m, ) ndarray): Equality constraint vector.\n",
    "        c ((n, ) ndarray): Linear objective function coefficients.\n",
    "        niter (int > 0): The maximum number of iterations to execute.\n",
    "        tol (float > 0): The convergence tolerance.\n",
    "\n",
    "    Returns:\n",
    "        x ((n, ) ndarray): The optimal point.\n",
    "        val (float): The minimum value of the objective function.\n",
    "    \"\"\"\n",
    "    m = A.shape[0]\n",
    "    n = A.shape[1]\n",
    "    \n",
    "    def Functs(x,lam,mu,retF=False):\n",
    "        #creating F \n",
    "        _1 = A.T@lam + mu - c\n",
    "        _2 = A@x - b\n",
    "        _3 = np.diag([ui for ui in mu])@x\n",
    "        F= np.concatenate((_1,_2,_3))\n",
    "        if retF:\n",
    "            return F\n",
    "        \n",
    "        #make the rows of DF and stack them on top of each other\n",
    "        row1 = np.hstack((np.zeros((n,n)),A.T,np.identity(n)))\n",
    "        row2 = np.hstack((A,np.zeros((m,m+n))))\n",
    "        row3 = np.hstack((np.diag([ui for ui in mu]),np.zeros((n,m)),np.diag([xi for xi in x])))\n",
    "        DF = np.vstack((row1,row2,row3))\n",
    "        \n",
    "        #lu decomp, pivot, and b vector\n",
    "        LU,piv = la.lu_factor(DF)\n",
    "        B = -F + np.concatenate((np.zeros(n + m), 0.1*np.dot(x,mu)*np.ones(n)/n ))\n",
    "        \n",
    "        #direction from solving\n",
    "        gradDir = la.lu_solve((LU,piv),B)\n",
    "        d_x = gradDir[:n]\n",
    "        d_lam = gradDir[n:m+n]\n",
    "        d_mu = gradDir[m+n:]\n",
    "        \n",
    "        #defining masks and getting alpha max and delta max\n",
    "        mask_mu = d_mu < 0\n",
    "        mask_x  = d_x  < 0\n",
    "        amax = np.min(-mu[mask_mu]/d_mu[mask_mu])\n",
    "        delmax = np.min(-x[mask_x]/d_x[mask_x])\n",
    "        \n",
    "        #getting what alpha and delta are\n",
    "        a = min(1., 0.95*amax)\n",
    "        _del = min(1.,0.95*delmax)\n",
    "        \n",
    "        #calculate the step sizes\n",
    "        x_step = _del*d_x\n",
    "        lam_step = a*d_lam\n",
    "        mu_step = a*d_mu\n",
    "        \n",
    "        nu = np.dot(x,mu)/n\n",
    "        \n",
    "        return x_step, lam_step, mu_step, nu\n",
    "    \n",
    "    #get starting point\n",
    "    x0,lam0,mu0 = starting_point(A,b,c)\n",
    "    \n",
    "    for k in range(niter):\n",
    "        #get the step sizes and the nu value\n",
    "        _x, _lam, _mu, nu = Functs(x0,lam0,mu0)\n",
    "        \n",
    "        #step the variables\n",
    "        x0 += _x\n",
    "        lam0 += _lam\n",
    "        mu0 += _mu\n",
    "        \n",
    "        #check tol\n",
    "        \n",
    "        if nu < tol:\n",
    "            break\n",
    "            \n",
    "    return x0, Functs(x0,lam0,mu0,True)"
   ]
  },
  {
   "cell_type": "code",
   "execution_count": 132,
   "metadata": {},
   "outputs": [
    {
     "data": {
      "text/plain": [
       "True"
      ]
     },
     "execution_count": 132,
     "metadata": {},
     "output_type": "execute_result"
    }
   ],
   "source": [
    "j, k = 7, 5\n",
    "A, b, c, x = randomLP(j, k)\n",
    "point, value = interiorPoint(A, b, c)\n",
    "np.allclose(x, point[:k])\n"
   ]
  },
  {
   "cell_type": "code",
   "execution_count": 153,
   "metadata": {},
   "outputs": [],
   "source": [
    "def leastAbsoluteDeviations(filename='simdata.txt'):\n",
    "    \"\"\"Generate and show the plot requested in the lab.\"\"\"\n",
    "    #load the data and get x and y points\n",
    "    data = np.loadtxt(filename)\n",
    "    Y = data.T[0]\n",
    "    X = data.T[1]\n",
    "    \n",
    "    #create variables to use to solve least absolute deviations via problems 1-4\n",
    "    m = data.shape[0]\n",
    "    n = data.shape[1] - 1\n",
    "    c = np.zeros(3*m + 2*(n + 1))\n",
    "    c[:m] = 1\n",
    "    y = np.empty(2*m)\n",
    "    y[::2] = -data[:, 0]\n",
    "    y[1::2] = data[:, 0]\n",
    "    x = data[:, 1:]\n",
    "    A = np.ones((2*m, 3*m + 2*(n + 1)))\n",
    "    A[::2, :m] = np.eye(m)\n",
    "    A[1::2, :m] = np.eye(m)\n",
    "    A[::2, m:m+n] = -x\n",
    "    A[1::2, m:m+n] = x\n",
    "    A[::2, m+n:m+2*n] = x\n",
    "    A[1::2, m+n:m+2*n] = -x\n",
    "    A[::2, m+2*n] = -1\n",
    "    A[1::2, m+2*n+1] = -1\n",
    "    A[:, m+2*n+2:] = -np.eye(2*m, 2*m)\n",
    "    \n",
    "    #solution using interior point\n",
    "    sol = interiorPoint(A, y, c, niter=10)[0]\n",
    "    \n",
    "    #separate slope and y intercept\n",
    "    beta = sol[m:m+n] - sol[m+n:m+2*n]\n",
    "    b = sol[m+2*n] - sol[m+2*n+1]\n",
    "    \n",
    "    #use scipy lineregress\n",
    "    from scipy.stats import linregress\n",
    "    slope, intercept = linregress(data[:,1], data[:,0])[:2]\n",
    "    \n",
    "    #plotting\n",
    "    plt.title(\"Least Abs. Deviation and Line Regression\")\n",
    "    plt.xlabel(\"x\")\n",
    "    plt.ylabel(\"y\")\n",
    "    domain = np.linspace(0,10,200)\n",
    "    #line regress:\n",
    "    plt.plot(domain, domain*slope + intercept,label='line regress')\n",
    "    #solution:\n",
    "    plt.plot(domain, beta*domain+b,label='least abs. dev.')\n",
    "    plt.scatter(X,Y,color='r',label=\"data\")\n",
    "    plt.legend()"
   ]
  },
  {
   "cell_type": "code",
   "execution_count": 154,
   "metadata": {},
   "outputs": [
    {
     "data": {
      "image/png": "[encoded data removed]",
      "text/plain": [
       "<Figure size 432x288 with 1 Axes>"
      ]
     },
     "metadata": {
      "needs_background": "light"
     },
     "output_type": "display_data"
    }
   ],
   "source": [
    "leastAbsoluteDeviations()"
   ]
  }
 ],
 "metadata": {
  "kernelspec": {
   "display_name": "Python 3",
   "language": "python",
   "name": "python3"
  },
  "language_info": {
   "codemirror_mode": {
    "name": "ipython",
    "version": 3
   },
   "file_extension": ".py",
   "mimetype": "text/x-python",
   "name": "python",
   "nbconvert_exporter": "python",
   "pygments_lexer": "ipython3",
   "version": "3.7.3"
  }
 },
 "nbformat": 4,
 "nbformat_minor": 4
}
