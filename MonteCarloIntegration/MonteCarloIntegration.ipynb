{
 "cells": [
  {
   "cell_type": "markdown",
   "metadata": {},
   "source": [
    "# Monte Carlo Integration\n",
    "## February 15th, 2022\n",
    "### Overview: Use Monte Carlo techniques to approximate the area within a region"
   ]
  },
  {
   "cell_type": "code",
   "execution_count": 1,
   "metadata": {},
   "outputs": [],
   "source": [
    "import numpy as np\n",
    "from scipy import stats\n",
    "from numpy import linalg as la\n",
    "from matplotlib import pyplot as plt"
   ]
  },
  {
   "cell_type": "code",
   "execution_count": 2,
   "metadata": {},
   "outputs": [],
   "source": [
    "# Problem 1\n",
    "def ball_volume(n, N=10000):\n",
    "    \"\"\"Estimate the volume of the n-dimensional unit ball.\n",
    "\n",
    "    Parameters:\n",
    "        n (int): The dimension of the ball. n=2 corresponds to the unit circle,\n",
    "            n=3 corresponds to the unit sphere, and so on.\n",
    "        N (int): The number of random points to sample.\n",
    "\n",
    "    Returns:\n",
    "        (float): An estimate for the volume of the n-dimensional unit ball.\n",
    "    \"\"\"\n",
    "    #the total volume of the n-dimensional cube\n",
    "    box_vol = 2**n\n",
    "    \n",
    "    #get N random points in the n-D domain [-1,1]x...x[-1,1]\n",
    "    points = np.random.uniform(-1, 1, (n,N))\n",
    "    \n",
    "    #Determine how many points are within the n-D ball.\n",
    "    lengths = la.norm(points, axis=0)\n",
    "    num_within = np.count_nonzero(lengths < 1)\n",
    "    \n",
    "    #Estimate ball's volume\n",
    "    ball = box_vol * (num_within / N)\n",
    "    \n",
    "    return ball"
   ]
  },
  {
   "cell_type": "code",
   "execution_count": 3,
   "metadata": {},
   "outputs": [],
   "source": [
    "# Problem 2\n",
    "def mc_integrate1d(f, a, b, N=10000):\n",
    "    \"\"\"Approximate the integral of f on the interval [a,b].\n",
    "\n",
    "    Parameters:\n",
    "        f (function): the function to integrate. Accepts and returns scalars.\n",
    "        a (float): the lower bound of interval of integration.\n",
    "        b (float): the lower bound of interval of integration.\n",
    "        N (int): The number of random points to sample.\n",
    "\n",
    "    Returns:\n",
    "        (float): An approximation of the integral of f over [a,b].\n",
    "\n",
    "    Example:\n",
    "        >>> f = lambda x: x**2\n",
    "        >>> mc_integrate1d(f, -4, 2)    # Integrate from -4 to 2.\n",
    "        23.734810301138324              # The true value is 24.\n",
    "    \"\"\"\n",
    "    #defining the points\n",
    "    points = np.random.uniform(a, b, N)\n",
    "    \n",
    "    #applying f to the points, taking the mean, and multiplying by length of interval\n",
    "    integral = (b-a)*np.mean(f(points))\n",
    "    return integral"
   ]
  },
  {
   "cell_type": "code",
   "execution_count": 40,
   "metadata": {},
   "outputs": [],
   "source": [
    "# Problem 3\n",
    "def mc_integrate(f, mins, maxs, N=10000):\n",
    "    \"\"\"Approximate the integral of f over the box defined by mins and maxs.\n",
    "\n",
    "    Parameters:\n",
    "        f (function): The function to integrate. Accepts and returns\n",
    "            1-D NumPy arrays of length n.\n",
    "        mins (list): the lower bounds of integration.\n",
    "        maxs (list): the upper bounds of integration.\n",
    "        N (int): The number of random points to sample.\n",
    "\n",
    "    Returns:\n",
    "        (float): An approximation of the integral of f over the domain.\n",
    "\n",
    "    Example:\n",
    "        # Define f(x,y) = 3x - 4y + y^2. Inputs are grouped into an array.\n",
    "        >>> f = lambda x: 3*x[0] - 4*x[1] + x[1]**2\n",
    "\n",
    "        # Integrate over the box [1,3]x[-2,1].\n",
    "        >>> mc_integrate(f, [1, -2], [3, 1])\n",
    "        53.562651072181225              # The true value is 54.\n",
    "    \"\"\"\n",
    "    #get N random points in the n-D domain [0,1]x...x[0,1]\n",
    "    points = np.random.uniform(0, 1, (len(mins),N))\n",
    "    \n",
    "    #shifting points\n",
    "    points = np.array([point*(maxs[i]-mins[i]) + mins[i] for i,point in enumerate(points)])\n",
    "    \n",
    "    #getting what volume is\n",
    "    V = np.product([maxs[i] - mins[i] for i in range(len(maxs))])\n",
    "    \n",
    "    #applying f to the points; estimating integral\n",
    "    return V * np.mean([f(point) for point in points.T])"
   ]
  },
  {
   "cell_type": "code",
   "execution_count": 41,
   "metadata": {},
   "outputs": [
    {
     "data": {
      "text/plain": [
       "53.99027625250305"
      ]
     },
     "execution_count": 41,
     "metadata": {},
     "output_type": "execute_result"
    }
   ],
   "source": [
    "g = lambda x: 3*x[0] - 4*x[1] + x[1]**2\n",
    "mc_integrate(g, [1, -2], [3, 1])"
   ]
  },
  {
   "cell_type": "code",
   "execution_count": 46,
   "metadata": {},
   "outputs": [],
   "source": [
    "# Problem 4\n",
    "def prob4():\n",
    "    \"\"\"Let n=4 and Omega = [-3/2,3/4]x[0,1]x[0,1/2]x[0,1].\n",
    "    - Define the joint distribution f of n standard normal random variables.\n",
    "    - Use SciPy to integrate f over Omega.\n",
    "    - Get 20 integer values of N that are roughly logarithmically spaced from\n",
    "        10**1 to 10**5. For each value of N, use mc_integrate() to compute\n",
    "        estimates of the integral of f over Omega with N samples. Compute the\n",
    "        relative error of estimate.\n",
    "    - Plot the relative error against the sample size N on a log-log scale.\n",
    "        Also plot the line 1 / sqrt(N) for comparison.\n",
    "    \"\"\"\n",
    "    #defining f \n",
    "    f = lambda x: 1/ ( (2 * np.pi)**2) * np.exp( - x.T@x /2  )\n",
    "    \n",
    "    #defining intervals\n",
    "    Mins = [-3/2,0,0,0]\n",
    "    Maxs = [3/4,1,1/2,1]\n",
    "    \n",
    "    # The distribution has mean 0 and covariance I (the nxn identity).\n",
    "    means, cov = np.zeros(4), np.identity(4)\n",
    "    #accurate integral value\n",
    "    Int_real = stats.mvn.mvnun(Mins, Maxs, means, cov)[0]\n",
    "    \n",
    "    #init errors list\n",
    "    errors = []\n",
    "    \n",
    "    #defining rough integer logspace\n",
    "    space = np.array([round(point) for point in np.logspace(1,5,num=20)])\n",
    "\n",
    "    #for each number of points to sample, get approx integral; record error\n",
    "    for val in space:\n",
    "        Int_apprx = mc_integrate(f,Mins,Maxs,N=val)\n",
    "        errors.append(abs(Int_real - Int_apprx)/(Int_real))\n",
    "    \n",
    "    plt.title(\"monte carlo estimates' errors and 1/sqrt(N)\")\n",
    "    plt.loglog(space,errors,'b',label='relative error')\n",
    "    plt.loglog(space,1/np.sqrt(space),'orange',label='1/sqrt(N)')\n",
    "    plt.scatter(space,errors,color='b')\n",
    "    plt.scatter(space,1/np.sqrt(space),color='orange')\n",
    "    plt.legend()"
   ]
  },
  {
   "cell_type": "code",
   "execution_count": 49,
   "metadata": {},
   "outputs": [
    {
     "data": {
      "image/png": "[encoded data removed]",
      "text/plain": [
       "<Figure size 432x288 with 1 Axes>"
      ]
     },
     "metadata": {
      "needs_background": "light"
     },
     "output_type": "display_data"
    }
   ],
   "source": [
    "prob4()"
   ]
  }
 ],
 "metadata": {
  "kernelspec": {
   "display_name": "Python 3",
   "language": "python",
   "name": "python3"
  },
  "language_info": {
   "codemirror_mode": {
    "name": "ipython",
    "version": 3
   },
   "file_extension": ".py",
   "mimetype": "text/x-python",
   "name": "python",
   "nbconvert_exporter": "python",
   "pygments_lexer": "ipython3",
   "version": "3.7.3"
  }
 },
 "nbformat": 4,
 "nbformat_minor": 4
}
